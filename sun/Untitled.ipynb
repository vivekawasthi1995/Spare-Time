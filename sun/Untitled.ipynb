{
 "cells": [
  {
   "cell_type": "code",
   "execution_count": 3,
   "metadata": {},
   "outputs": [
    {
     "ename": "NameError",
     "evalue": "name 'data_preprocessing1' is not defined",
     "output_type": "error",
     "traceback": [
      "\u001b[0;31m---------------------------------------------------------------------------\u001b[0m",
      "\u001b[0;31mNameError\u001b[0m                                 Traceback (most recent call last)",
      "\u001b[0;32m<ipython-input-3-1472153654ac>\u001b[0m in \u001b[0;36m<module>\u001b[0;34m()\u001b[0m\n\u001b[1;32m     28\u001b[0m \u001b[0mlearning_rate\u001b[0m \u001b[0;34m=\u001b[0m \u001b[0;36m0.001\u001b[0m\u001b[0;34m\u001b[0m\u001b[0m\n\u001b[1;32m     29\u001b[0m \u001b[0;34m\u001b[0m\u001b[0m\n\u001b[0;32m---> 30\u001b[0;31m \u001b[0mX\u001b[0m\u001b[0;34m,\u001b[0m\u001b[0mY\u001b[0m\u001b[0;34m,\u001b[0m \u001b[0mmappedCick\u001b[0m \u001b[0;34m=\u001b[0m \u001b[0mdata_preprocessing1\u001b[0m\u001b[0;34m(\u001b[0m \u001b[0mpath_train_txt\u001b[0m\u001b[0;34m,\u001b[0m \u001b[0mpath_label_txt\u001b[0m\u001b[0;34m)\u001b[0m\u001b[0;34m\u001b[0m\u001b[0m\n\u001b[0m",
      "\u001b[0;31mNameError\u001b[0m: name 'data_preprocessing1' is not defined"
     ]
    }
   ],
   "source": [
    "# %load model.py\n",
    "import numpy as np\n",
    "import pandas as pd\n",
    "import os\n",
    "import cv2\n",
    "import load_data\n",
    "import data_util\n",
    "\n",
    "\n",
    "from keras.models import Sequential\n",
    "from keras.layers import Conv2D, MaxPool2D, Flatten, Dense, Lambda, Input\n",
    "import keras as k\n",
    "from keras.layers.core import Activation\n",
    "from keras import optimizers\n",
    "from sklearn.model_selection import train_test_split\n",
    "\n",
    "\n",
    "INPUT_SHAPE = ( 64, 64, 3)\n",
    "\n",
    "path_train_txt = r'/home/cloud/Desktop/oneShot1/data/DatasetA_train_20180813/train.txt'\n",
    "path_label_txt = r'/home/cloud/Desktop/oneShot1/data/DatasetA_train_20180813/label_list.txt'\n",
    "image_path = r\"/home/cloud/Desktop/oneShot1/data/DatasetA_train_20180813/train\"\n",
    "\n",
    "\n",
    "\n",
    "\n",
    "batch_size = 64\n",
    "learning_rate = 0.001\n",
    "\n",
    "X,Y, mappedCick = data_preprocessing1( path_train_txt, path_label_txt)"
   ]
  },
  {
   "cell_type": "code",
   "execution_count": null,
   "metadata": {},
   "outputs": [],
   "source": [
    "X_train, X_test, Y_train, Y_test = train_test_split( X, Y)\n",
    "\n",
    "def build_model( self):\n",
    "    model = Sequential()\n",
    "\tmodel.add( Lambda( lambda x: x/127.5-1.0, input_shape = INPUT_SHAPE))\n",
    "\tmodel.add( Conv2D( 64, [8,8], strides = (1,1), padding = 'valid', activation = 'elu'))\n",
    "\tmodel.add( MaxPool2D( pool_size = (2,2), strides = (1,1), padding = 'valid'))\n",
    "\tmodel.add( Conv2D(128, [7,7], strides= (1,1), padding = 'valid'))\n",
    "\tmodel.add( MaxPool2D())\n",
    "\tmodel.add( Conv2D( 128, [4, 4], strides = (1,1), activation = 'elu') )\n",
    "\tmodel.add( MaxPool2D())\n",
    "\tmodel.add( Dense( 4096))\n",
    "\tmodel.add( Dense(1024))\n",
    "\tmodel.add( Dense(231))\n",
    "\tmodel.add( Activation = 'sigmoid')\n",
    "\tmodel.add_sumary()\n",
    "\treturn model\n",
    "\n",
    "def train_model( model, batch_size, image_path, X_train, Y_train):\n",
    "\t\n",
    "\tmodel.compile( loss = 'mean_squared_error', optimizer = Adam( lr = learning_rate))\n",
    "\tmodel.fit_generater( batch_generator( batch_size, image_path, 231, X_train, Y_train),\n",
    "\t\tsteps_per_epoch = len( X_train)/batch_size, epochs = 10, verbose = 2)\n",
    "\n",
    "\n",
    "\n",
    "\n",
    "def main():\n",
    "\tmodel = build_model()\n",
    "\ttrain_model( model, batch_size, image_path,X_train, Y_train)"
   ]
  }
 ],
 "metadata": {
  "kernelspec": {
   "display_name": "Python 3",
   "language": "python",
   "name": "python3"
  },
  "language_info": {
   "codemirror_mode": {
    "name": "ipython",
    "version": 3
   },
   "file_extension": ".py",
   "mimetype": "text/x-python",
   "name": "python",
   "nbconvert_exporter": "python",
   "pygments_lexer": "ipython3",
   "version": "3.6.6"
  }
 },
 "nbformat": 4,
 "nbformat_minor": 2
}

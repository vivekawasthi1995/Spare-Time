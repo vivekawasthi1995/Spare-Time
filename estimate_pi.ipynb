{
 "cells": [
  {
   "cell_type": "markdown",
   "metadata": {},
   "source": [
    "# We are going to calculate value of PI using Monte Carlo Algo"
   ]
  },
  {
   "cell_type": "code",
   "execution_count": 9,
   "metadata": {
    "collapsed": true
   },
   "outputs": [],
   "source": [
    "from random import random\n",
    "from math import pow\n",
    "import numpy as np\n",
    "import matplotlib.pyplot as plt"
   ]
  },
  {
   "cell_type": "markdown",
   "metadata": {},
   "source": [
    "We are having a circle of radious 0.5 inclosed with a square of side 1.\n",
    "Corner of the square are at (0,0) and (1,1) and center of circle is at (0.5,0.5).\n",
    "Now we are going to generate random points inside square and will count that how many points are inside circle.\n",
    "\n",
    "a point (x,y) is inside or in circle(xc, yc, r) if\n",
    "        ( (x-xc)^2 + (y-yc)^2 ) <= r^2\n",
    "        \n",
    "now some maths\n",
    "Area of Square (S) = 1\n",
    "Area of Circle (C) = PI*0.5*0.5\n",
    "So, PI= 4*C/S"
   ]
  },
  {
   "cell_type": "code",
   "execution_count": 2,
   "metadata": {
    "collapsed": true
   },
   "outputs": [],
   "source": [
    "no_of_points = [10,100,1000,10000,100000,1000000,10000000,100000000]\n",
    "pi_value = []\n",
    "inside_circle = 0\n",
    "xc = 0.5\n",
    "yc = 0.5\n",
    "r = 0.5"
   ]
  },
  {
   "cell_type": "code",
   "execution_count": 3,
   "metadata": {
    "collapsed": false
   },
   "outputs": [],
   "source": [
    "def incircle( x, y ):\n",
    "    d = ( pow (x-xc,2) + pow(y-yc,2))\n",
    "    if d<= r*r:\n",
    "        return True\n",
    "    return False\n",
    "\n",
    "for i in no_of_points:\n",
    "    inside_circle = 0\n",
    "    for j in range(i):\n",
    "        x= random()\n",
    "        y= random()\n",
    "        if ( incircle(x,y) ):\n",
    "            inside_circle += 1\n",
    "    pi_value.append(4*inside_circle/i)       "
   ]
  },
  {
   "cell_type": "code",
   "execution_count": 12,
   "metadata": {
    "collapsed": false
   },
   "outputs": [
    {
     "data": {
      "image/png": "[encoded data removed]",
      "text/plain": [
       "<matplotlib.figure.Figure at 0x7fa4ed3b42b0>"
      ]
     },
     "metadata": {},
     "output_type": "display_data"
    }
   ],
   "source": [
    "plt.plot( no_of_points, pi_value, 'g')\n",
    "plt.title( \"Calculating value of PI\")\n",
    "plt.xlabel(\"Number of points\")\n",
    "plt.ylabel(\"Estimated value of PI\")\n",
    "plt.ylim(3.10,3.15)\n",
    "plt.show()"
   ]
  }
 ],
 "metadata": {
  "kernelspec": {
   "display_name": "Python 3",
   "language": "python",
   "name": "python3"
  },
  "language_info": {
   "codemirror_mode": {
    "name": "ipython",
    "version": 3
   },
   "file_extension": ".py",
   "mimetype": "text/x-python",
   "name": "python",
   "nbconvert_exporter": "python",
   "pygments_lexer": "ipython3",
   "version": "3.6.0"
  }
 },
 "nbformat": 4,
 "nbformat_minor": 2
}

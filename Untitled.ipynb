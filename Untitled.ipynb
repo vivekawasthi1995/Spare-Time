{
 "cells": [
  {
   "cell_type": "code",
   "execution_count": 19,
   "metadata": {},
   "outputs": [
    {
     "name": "stdout",
     "output_type": "stream",
     "text": [
      "38221\n",
      "38221\n"
     ]
    }
   ],
   "source": [
    "import os\n",
    "X_train = []\n",
    "Y_train = []\n",
    "with open(r'C:\\Users\\SRI-D\\Desktop\\one shot\\data\\DatasetA_train_20180813\\train.txt','r') as f:\n",
    "    #X_train, Y_train = [x.strip().split('\\t') for x in f]\n",
    "    for x in f:\n",
    "        x,y = x.strip().split('\\t')\n",
    "        X_train.append(x)\n",
    "        Y_train.append(y)\n",
    "    \n",
    "\n",
    "\n"
   ]
  },
  {
   "cell_type": "code",
   "execution_count": 37,
   "metadata": {},
   "outputs": [],
   "source": [
    "category = []\n",
    "label = []\n",
    "dicMap = {}\n",
    "with open(r'C:\\Users\\SRI-D\\Desktop\\one shot\\data\\DatasetA_train_20180813\\label_list.txt','r') as f:\n",
    "    for x in f:\n",
    "        x,y = x.strip().split('\\t')\n",
    "        category.append( y)\n",
    "        label.append(x)\n",
    "idd = 0\n",
    "for x in label:\n",
    "    dicMap[x]= idd\n",
    "    idd = idd + 1\n",
    "\n",
    "y_train = []\n",
    "#print ( dicMap)\n",
    "for x in Y_train:\n",
    "    y_train.append( dicMap[x])\n"
   ]
  },
  {
   "cell_type": "code",
   "execution_count": 38,
   "metadata": {},
   "outputs": [],
   "source": [
    "import keras as k"
   ]
  },
  {
   "cell_type": "code",
   "execution_count": 39,
   "metadata": {},
   "outputs": [],
   "source": [
    "y_train = k.utils.to_categorical(y_train, 230)"
   ]
  },
  {
   "cell_type": "code",
   "execution_count": null,
   "metadata": {},
   "outputs": [],
   "source": []
  }
 ],
 "metadata": {
  "kernelspec": {
   "display_name": "Python 3",
   "language": "python",
   "name": "python3"
  },
  "language_info": {
   "codemirror_mode": {
    "name": "ipython",
    "version": 3
   },
   "file_extension": ".py",
   "mimetype": "text/x-python",
   "name": "python",
   "nbconvert_exporter": "python",
   "pygments_lexer": "ipython3",
   "version": "3.6.6"
  }
 },
 "nbformat": 4,
 "nbformat_minor": 2
}
